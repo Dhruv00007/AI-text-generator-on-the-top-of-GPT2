{
 "cells": [
  {
   "cell_type": "code",
   "execution_count": 1,
   "id": "cosmetic-composite",
   "metadata": {},
   "outputs": [],
   "source": [
    "#portfolio optimization using efficient frontier "
   ]
  },
  {
   "cell_type": "code",
   "execution_count": 2,
   "id": "circular-resident",
   "metadata": {},
   "outputs": [],
   "source": [
    "from pandas_datareader import data as web \n",
    "import pandas as pd\n",
    "import numpy as np \n",
    "from datetime import datetime \n",
    "import matplotlib \n",
    "import matplotlib.pyplot as plt \n",
    "plt.style.use('fivethirtyeight')"
   ]
  },
  {
   "cell_type": "code",
   "execution_count": 3,
   "id": "realistic-fourth",
   "metadata": {},
   "outputs": [],
   "source": [
    "assets = ['FB','AMZN','AAPL','NFLX','GOOG']"
   ]
  },
  {
   "cell_type": "code",
   "execution_count": 4,
   "id": "pediatric-rubber",
   "metadata": {},
   "outputs": [],
   "source": [
    "weights = np.array([0.2,0.2,0.2,0.2,0.2])"
   ]
  },
  {
   "cell_type": "code",
   "execution_count": 5,
   "id": "electrical-spiritual",
   "metadata": {},
   "outputs": [],
   "source": [
    "stockStartDate = '2013-01-01'\n"
   ]
  },
  {
   "cell_type": "code",
   "execution_count": 6,
   "id": "fiscal-binary",
   "metadata": {},
   "outputs": [
    {
     "data": {
      "text/plain": [
       "'2021-05-18'"
      ]
     },
     "execution_count": 6,
     "metadata": {},
     "output_type": "execute_result"
    }
   ],
   "source": [
    "today = datetime.today().strftime('%Y-%m-%d')\n",
    "today"
   ]
  },
  {
   "cell_type": "code",
   "execution_count": 7,
   "id": "constitutional-hollow",
   "metadata": {},
   "outputs": [],
   "source": [
    "#creating a dataframe to store adjusted close price of a stock \n",
    "df = pd.DataFrame()\n",
    "#storing closing price in adjusted data frame\n",
    "for stock in assets:\n",
    "    df[stock]= web.DataReader(stock,data_source='yahoo',start=stockStartDate,end=today)['Adj Close']"
   ]
  },
  {
   "cell_type": "code",
   "execution_count": 8,
   "id": "vital-boundary",
   "metadata": {},
   "outputs": [
    {
     "data": {
      "text/html": [
       "<div>\n",
       "<style scoped>\n",
       "    .dataframe tbody tr th:only-of-type {\n",
       "        vertical-align: middle;\n",
       "    }\n",
       "\n",
       "    .dataframe tbody tr th {\n",
       "        vertical-align: top;\n",
       "    }\n",
       "\n",
       "    .dataframe thead th {\n",
       "        text-align: right;\n",
       "    }\n",
       "</style>\n",
       "<table border=\"1\" class=\"dataframe\">\n",
       "  <thead>\n",
       "    <tr style=\"text-align: right;\">\n",
       "      <th></th>\n",
       "      <th>FB</th>\n",
       "      <th>AMZN</th>\n",
       "      <th>AAPL</th>\n",
       "      <th>NFLX</th>\n",
       "      <th>GOOG</th>\n",
       "    </tr>\n",
       "    <tr>\n",
       "      <th>Date</th>\n",
       "      <th></th>\n",
       "      <th></th>\n",
       "      <th></th>\n",
       "      <th></th>\n",
       "      <th></th>\n",
       "    </tr>\n",
       "  </thead>\n",
       "  <tbody>\n",
       "    <tr>\n",
       "      <th>2012-12-31</th>\n",
       "      <td>26.620001</td>\n",
       "      <td>250.869995</td>\n",
       "      <td>16.488508</td>\n",
       "      <td>13.227143</td>\n",
       "      <td>352.369232</td>\n",
       "    </tr>\n",
       "    <tr>\n",
       "      <th>2013-01-02</th>\n",
       "      <td>28.000000</td>\n",
       "      <td>257.309998</td>\n",
       "      <td>17.010899</td>\n",
       "      <td>13.144286</td>\n",
       "      <td>360.274597</td>\n",
       "    </tr>\n",
       "    <tr>\n",
       "      <th>2013-01-03</th>\n",
       "      <td>27.770000</td>\n",
       "      <td>258.480011</td>\n",
       "      <td>16.796177</td>\n",
       "      <td>13.798571</td>\n",
       "      <td>360.483826</td>\n",
       "    </tr>\n",
       "    <tr>\n",
       "      <th>2013-01-04</th>\n",
       "      <td>28.760000</td>\n",
       "      <td>259.149994</td>\n",
       "      <td>16.328323</td>\n",
       "      <td>13.711429</td>\n",
       "      <td>367.607117</td>\n",
       "    </tr>\n",
       "    <tr>\n",
       "      <th>2013-01-07</th>\n",
       "      <td>29.420000</td>\n",
       "      <td>268.459991</td>\n",
       "      <td>16.232281</td>\n",
       "      <td>14.171429</td>\n",
       "      <td>366.003143</td>\n",
       "    </tr>\n",
       "    <tr>\n",
       "      <th>...</th>\n",
       "      <td>...</td>\n",
       "      <td>...</td>\n",
       "      <td>...</td>\n",
       "      <td>...</td>\n",
       "      <td>...</td>\n",
       "    </tr>\n",
       "    <tr>\n",
       "      <th>2021-05-12</th>\n",
       "      <td>302.549988</td>\n",
       "      <td>3151.939941</td>\n",
       "      <td>122.769997</td>\n",
       "      <td>484.980011</td>\n",
       "      <td>2239.080078</td>\n",
       "    </tr>\n",
       "    <tr>\n",
       "      <th>2021-05-13</th>\n",
       "      <td>305.260010</td>\n",
       "      <td>3161.469971</td>\n",
       "      <td>124.970001</td>\n",
       "      <td>486.660004</td>\n",
       "      <td>2261.969971</td>\n",
       "    </tr>\n",
       "    <tr>\n",
       "      <th>2021-05-14</th>\n",
       "      <td>315.940002</td>\n",
       "      <td>3222.899902</td>\n",
       "      <td>127.449997</td>\n",
       "      <td>493.369995</td>\n",
       "      <td>2316.159912</td>\n",
       "    </tr>\n",
       "    <tr>\n",
       "      <th>2021-05-17</th>\n",
       "      <td>315.459991</td>\n",
       "      <td>3270.389893</td>\n",
       "      <td>126.269997</td>\n",
       "      <td>488.940002</td>\n",
       "      <td>2321.409912</td>\n",
       "    </tr>\n",
       "    <tr>\n",
       "      <th>2021-05-18</th>\n",
       "      <td>314.160004</td>\n",
       "      <td>3294.409912</td>\n",
       "      <td>126.468597</td>\n",
       "      <td>488.410004</td>\n",
       "      <td>2336.429932</td>\n",
       "    </tr>\n",
       "  </tbody>\n",
       "</table>\n",
       "<p>2110 rows × 5 columns</p>\n",
       "</div>"
      ],
      "text/plain": [
       "                    FB         AMZN        AAPL        NFLX         GOOG\n",
       "Date                                                                    \n",
       "2012-12-31   26.620001   250.869995   16.488508   13.227143   352.369232\n",
       "2013-01-02   28.000000   257.309998   17.010899   13.144286   360.274597\n",
       "2013-01-03   27.770000   258.480011   16.796177   13.798571   360.483826\n",
       "2013-01-04   28.760000   259.149994   16.328323   13.711429   367.607117\n",
       "2013-01-07   29.420000   268.459991   16.232281   14.171429   366.003143\n",
       "...                ...          ...         ...         ...          ...\n",
       "2021-05-12  302.549988  3151.939941  122.769997  484.980011  2239.080078\n",
       "2021-05-13  305.260010  3161.469971  124.970001  486.660004  2261.969971\n",
       "2021-05-14  315.940002  3222.899902  127.449997  493.369995  2316.159912\n",
       "2021-05-17  315.459991  3270.389893  126.269997  488.940002  2321.409912\n",
       "2021-05-18  314.160004  3294.409912  126.468597  488.410004  2336.429932\n",
       "\n",
       "[2110 rows x 5 columns]"
      ]
     },
     "execution_count": 8,
     "metadata": {},
     "output_type": "execute_result"
    }
   ],
   "source": [
    "df\n"
   ]
  },
  {
   "cell_type": "code",
   "execution_count": 9,
   "id": "level-employment",
   "metadata": {},
   "outputs": [
    {
     "data": {
      "image/png": "[encoded data removed]",
      "text/plain": [
       "<Figure size 432x288 with 1 Axes>"
      ]
     },
     "metadata": {},
     "output_type": "display_data"
    }
   ],
   "source": [
    "title = 'Portfolio Adj Price history'\n",
    "my_stocks = df\n",
    "for c in my_stocks.columns.values:\n",
    "    plt.plot(my_stocks[c],label=c)\n",
    "    \n",
    "plt.title(title)\n",
    "plt.xlabel('Date',fontsize=18)\n",
    "plt.ylabel('Adj. price USD($)',fontsize=18)\n",
    "plt.legend(my_stocks.columns.values,loc='upper left')\n",
    "plt.show()"
   ]
  },
  {
   "cell_type": "code",
   "execution_count": 10,
   "id": "skilled-backup",
   "metadata": {},
   "outputs": [
    {
     "data": {
      "text/html": [
       "<div>\n",
       "<style scoped>\n",
       "    .dataframe tbody tr th:only-of-type {\n",
       "        vertical-align: middle;\n",
       "    }\n",
       "\n",
       "    .dataframe tbody tr th {\n",
       "        vertical-align: top;\n",
       "    }\n",
       "\n",
       "    .dataframe thead th {\n",
       "        text-align: right;\n",
       "    }\n",
       "</style>\n",
       "<table border=\"1\" class=\"dataframe\">\n",
       "  <thead>\n",
       "    <tr style=\"text-align: right;\">\n",
       "      <th></th>\n",
       "      <th>FB</th>\n",
       "      <th>AMZN</th>\n",
       "      <th>AAPL</th>\n",
       "      <th>NFLX</th>\n",
       "      <th>GOOG</th>\n",
       "    </tr>\n",
       "    <tr>\n",
       "      <th>Date</th>\n",
       "      <th></th>\n",
       "      <th></th>\n",
       "      <th></th>\n",
       "      <th></th>\n",
       "      <th></th>\n",
       "    </tr>\n",
       "  </thead>\n",
       "  <tbody>\n",
       "    <tr>\n",
       "      <th>2012-12-31</th>\n",
       "      <td>NaN</td>\n",
       "      <td>NaN</td>\n",
       "      <td>NaN</td>\n",
       "      <td>NaN</td>\n",
       "      <td>NaN</td>\n",
       "    </tr>\n",
       "    <tr>\n",
       "      <th>2013-01-02</th>\n",
       "      <td>0.051841</td>\n",
       "      <td>0.025671</td>\n",
       "      <td>0.031682</td>\n",
       "      <td>-0.006264</td>\n",
       "      <td>0.022435</td>\n",
       "    </tr>\n",
       "    <tr>\n",
       "      <th>2013-01-03</th>\n",
       "      <td>-0.008214</td>\n",
       "      <td>0.004547</td>\n",
       "      <td>-0.012623</td>\n",
       "      <td>0.049777</td>\n",
       "      <td>0.000581</td>\n",
       "    </tr>\n",
       "    <tr>\n",
       "      <th>2013-01-04</th>\n",
       "      <td>0.035650</td>\n",
       "      <td>0.002592</td>\n",
       "      <td>-0.027855</td>\n",
       "      <td>-0.006315</td>\n",
       "      <td>0.019760</td>\n",
       "    </tr>\n",
       "    <tr>\n",
       "      <th>2013-01-07</th>\n",
       "      <td>0.022949</td>\n",
       "      <td>0.035925</td>\n",
       "      <td>-0.005882</td>\n",
       "      <td>0.033549</td>\n",
       "      <td>-0.004363</td>\n",
       "    </tr>\n",
       "    <tr>\n",
       "      <th>...</th>\n",
       "      <td>...</td>\n",
       "      <td>...</td>\n",
       "      <td>...</td>\n",
       "      <td>...</td>\n",
       "      <td>...</td>\n",
       "    </tr>\n",
       "    <tr>\n",
       "      <th>2021-05-12</th>\n",
       "      <td>-0.012984</td>\n",
       "      <td>-0.022324</td>\n",
       "      <td>-0.024939</td>\n",
       "      <td>-0.020401</td>\n",
       "      <td>-0.030181</td>\n",
       "    </tr>\n",
       "    <tr>\n",
       "      <th>2021-05-13</th>\n",
       "      <td>0.008957</td>\n",
       "      <td>0.003024</td>\n",
       "      <td>0.017920</td>\n",
       "      <td>0.003464</td>\n",
       "      <td>0.010223</td>\n",
       "    </tr>\n",
       "    <tr>\n",
       "      <th>2021-05-14</th>\n",
       "      <td>0.034987</td>\n",
       "      <td>0.019431</td>\n",
       "      <td>0.019845</td>\n",
       "      <td>0.013788</td>\n",
       "      <td>0.023957</td>\n",
       "    </tr>\n",
       "    <tr>\n",
       "      <th>2021-05-17</th>\n",
       "      <td>-0.001519</td>\n",
       "      <td>0.014735</td>\n",
       "      <td>-0.009259</td>\n",
       "      <td>-0.008979</td>\n",
       "      <td>0.002267</td>\n",
       "    </tr>\n",
       "    <tr>\n",
       "      <th>2021-05-18</th>\n",
       "      <td>-0.004121</td>\n",
       "      <td>0.007345</td>\n",
       "      <td>0.001573</td>\n",
       "      <td>-0.001084</td>\n",
       "      <td>0.006470</td>\n",
       "    </tr>\n",
       "  </tbody>\n",
       "</table>\n",
       "<p>2110 rows × 5 columns</p>\n",
       "</div>"
      ],
      "text/plain": [
       "                  FB      AMZN      AAPL      NFLX      GOOG\n",
       "Date                                                        \n",
       "2012-12-31       NaN       NaN       NaN       NaN       NaN\n",
       "2013-01-02  0.051841  0.025671  0.031682 -0.006264  0.022435\n",
       "2013-01-03 -0.008214  0.004547 -0.012623  0.049777  0.000581\n",
       "2013-01-04  0.035650  0.002592 -0.027855 -0.006315  0.019760\n",
       "2013-01-07  0.022949  0.035925 -0.005882  0.033549 -0.004363\n",
       "...              ...       ...       ...       ...       ...\n",
       "2021-05-12 -0.012984 -0.022324 -0.024939 -0.020401 -0.030181\n",
       "2021-05-13  0.008957  0.003024  0.017920  0.003464  0.010223\n",
       "2021-05-14  0.034987  0.019431  0.019845  0.013788  0.023957\n",
       "2021-05-17 -0.001519  0.014735 -0.009259 -0.008979  0.002267\n",
       "2021-05-18 -0.004121  0.007345  0.001573 -0.001084  0.006470\n",
       "\n",
       "[2110 rows x 5 columns]"
      ]
     },
     "execution_count": 10,
     "metadata": {},
     "output_type": "execute_result"
    }
   ],
   "source": [
    "#taking a view at simple daily return\n",
    "returns = df.pct_change()\n",
    "returns "
   ]
  },
  {
   "cell_type": "code",
   "execution_count": 11,
   "id": "balanced-bowling",
   "metadata": {},
   "outputs": [
    {
     "data": {
      "text/html": [
       "<div>\n",
       "<style scoped>\n",
       "    .dataframe tbody tr th:only-of-type {\n",
       "        vertical-align: middle;\n",
       "    }\n",
       "\n",
       "    .dataframe tbody tr th {\n",
       "        vertical-align: top;\n",
       "    }\n",
       "\n",
       "    .dataframe thead th {\n",
       "        text-align: right;\n",
       "    }\n",
       "</style>\n",
       "<table border=\"1\" class=\"dataframe\">\n",
       "  <thead>\n",
       "    <tr style=\"text-align: right;\">\n",
       "      <th></th>\n",
       "      <th>FB</th>\n",
       "      <th>AMZN</th>\n",
       "      <th>AAPL</th>\n",
       "      <th>NFLX</th>\n",
       "      <th>GOOG</th>\n",
       "    </tr>\n",
       "  </thead>\n",
       "  <tbody>\n",
       "    <tr>\n",
       "      <th>FB</th>\n",
       "      <td>0.118443</td>\n",
       "      <td>0.055284</td>\n",
       "      <td>0.045705</td>\n",
       "      <td>0.057044</td>\n",
       "      <td>0.050977</td>\n",
       "    </tr>\n",
       "    <tr>\n",
       "      <th>AMZN</th>\n",
       "      <td>0.055284</td>\n",
       "      <td>0.092837</td>\n",
       "      <td>0.040491</td>\n",
       "      <td>0.063592</td>\n",
       "      <td>0.047707</td>\n",
       "    </tr>\n",
       "    <tr>\n",
       "      <th>AAPL</th>\n",
       "      <td>0.045705</td>\n",
       "      <td>0.040491</td>\n",
       "      <td>0.082256</td>\n",
       "      <td>0.036141</td>\n",
       "      <td>0.039018</td>\n",
       "    </tr>\n",
       "    <tr>\n",
       "      <th>NFLX</th>\n",
       "      <td>0.057044</td>\n",
       "      <td>0.063592</td>\n",
       "      <td>0.036141</td>\n",
       "      <td>0.209424</td>\n",
       "      <td>0.049384</td>\n",
       "    </tr>\n",
       "    <tr>\n",
       "      <th>GOOG</th>\n",
       "      <td>0.050977</td>\n",
       "      <td>0.047707</td>\n",
       "      <td>0.039018</td>\n",
       "      <td>0.049384</td>\n",
       "      <td>0.066863</td>\n",
       "    </tr>\n",
       "  </tbody>\n",
       "</table>\n",
       "</div>"
      ],
      "text/plain": [
       "            FB      AMZN      AAPL      NFLX      GOOG\n",
       "FB    0.118443  0.055284  0.045705  0.057044  0.050977\n",
       "AMZN  0.055284  0.092837  0.040491  0.063592  0.047707\n",
       "AAPL  0.045705  0.040491  0.082256  0.036141  0.039018\n",
       "NFLX  0.057044  0.063592  0.036141  0.209424  0.049384\n",
       "GOOG  0.050977  0.047707  0.039018  0.049384  0.066863"
      ]
     },
     "execution_count": 11,
     "metadata": {},
     "output_type": "execute_result"
    }
   ],
   "source": [
    "cov_matrix_annual = returns.cov()*252\n",
    "cov_matrix_annual\n"
   ]
  },
  {
   "cell_type": "code",
   "execution_count": 12,
   "id": "civil-recorder",
   "metadata": {},
   "outputs": [
    {
     "data": {
      "text/plain": [
       "0.06162035993982921"
      ]
     },
     "execution_count": 12,
     "metadata": {},
     "output_type": "execute_result"
    }
   ],
   "source": [
    "port_variance = np.dot(weights.T, np.dot(cov_matrix_annual,weights))\n",
    "port_variance "
   ]
  },
  {
   "cell_type": "code",
   "execution_count": 13,
   "id": "finnish-weight",
   "metadata": {},
   "outputs": [
    {
     "data": {
      "text/plain": [
       "0.24823448579886964"
      ]
     },
     "execution_count": 13,
     "metadata": {},
     "output_type": "execute_result"
    }
   ],
   "source": [
    "#calculating portfolio volatility means standard deviation\n",
    "port_volatility = np.sqrt(port_variance)\n",
    "port_volatility\n"
   ]
  },
  {
   "cell_type": "code",
   "execution_count": 14,
   "id": "hybrid-christian",
   "metadata": {},
   "outputs": [
    {
     "data": {
      "text/plain": [
       "0.3568818458397046"
      ]
     },
     "execution_count": 14,
     "metadata": {},
     "output_type": "execute_result"
    }
   ],
   "source": [
    "#calculating annual protfolio retrun\n",
    "portfolioSimpleAnnualRetrun = np.sum(returns.mean()*weights)*252\n",
    "portfolioSimpleAnnualRetrun "
   ]
  },
  {
   "cell_type": "code",
   "execution_count": 15,
   "id": "coupled-crown",
   "metadata": {},
   "outputs": [
    {
     "name": "stdout",
     "output_type": "stream",
     "text": [
      "Expected Annual Return : 36.0%\n",
      "Risk Involved: 25.0%\n",
      "Annual Variance 6.0%\n"
     ]
    }
   ],
   "source": [
    "#showing expected return in one statement \n",
    "percent_var = str(round(port_variance,2)*100)+'%'\n",
    "percent_vol = str(round(port_volatility,2)*100)+'%'\n",
    "percent_ret = str(round(portfolioSimpleAnnualRetrun ,2)*100)+'%'\n",
    "print('Expected Annual Return : ' +  percent_ret)\n",
    "print('Risk Involved: ' + percent_vol)\n",
    "print('Annual Variance ' + percent_var)\n"
   ]
  },
  {
   "cell_type": "code",
   "execution_count": 16,
   "id": "eligible-trout",
   "metadata": {},
   "outputs": [
    {
     "name": "stdout",
     "output_type": "stream",
     "text": [
      "Requirement already satisfied: PyPortfolioOpt in c:\\users\\welcome\\appdata\\local\\programs\\python\\python39\\lib\\site-packages (1.4.1)\n",
      "Requirement already satisfied: pandas>=0.19 in c:\\users\\welcome\\appdata\\local\\programs\\python\\python39\\lib\\site-packages (from PyPortfolioOpt) (1.2.3)\n",
      "Requirement already satisfied: numpy<2.0,>=1.12 in c:\\users\\welcome\\appdata\\local\\programs\\python\\python39\\lib\\site-packages (from PyPortfolioOpt) (1.20.1)\n",
      "Requirement already satisfied: cvxpy<2.0.0,>=1.1.10 in c:\\users\\welcome\\appdata\\local\\programs\\python\\python39\\lib\\site-packages (from PyPortfolioOpt) (1.1.12)\n",
      "Requirement already satisfied: scipy<2.0,>=1.3 in c:\\users\\welcome\\appdata\\local\\programs\\python\\python39\\lib\\site-packages (from PyPortfolioOpt) (1.6.1)\n",
      "Requirement already satisfied: osqp>=0.4.1 in c:\\users\\welcome\\appdata\\local\\programs\\python\\python39\\lib\\site-packages (from cvxpy<2.0.0,>=1.1.10->PyPortfolioOpt) (0.6.2.post0)\n",
      "Requirement already satisfied: scs>=1.1.6 in c:\\users\\welcome\\appdata\\local\\programs\\python\\python39\\lib\\site-packages (from cvxpy<2.0.0,>=1.1.10->PyPortfolioOpt) (2.1.3)\n",
      "Requirement already satisfied: ecos>=2 in c:\\users\\welcome\\appdata\\local\\programs\\python\\python39\\lib\\site-packages (from cvxpy<2.0.0,>=1.1.10->PyPortfolioOpt) (2.0.7.post1)\n",
      "Requirement already satisfied: qdldl in c:\\users\\welcome\\appdata\\local\\programs\\python\\python39\\lib\\site-packages (from osqp>=0.4.1->cvxpy<2.0.0,>=1.1.10->PyPortfolioOpt) (0.1.5.post0)\n",
      "Requirement already satisfied: python-dateutil>=2.7.3 in c:\\users\\welcome\\appdata\\local\\programs\\python\\python39\\lib\\site-packages (from pandas>=0.19->PyPortfolioOpt) (2.8.1)\n",
      "Requirement already satisfied: pytz>=2017.3 in c:\\users\\welcome\\appdata\\local\\programs\\python\\python39\\lib\\site-packages (from pandas>=0.19->PyPortfolioOpt) (2021.1)\n",
      "Requirement already satisfied: six>=1.5 in c:\\users\\welcome\\appdata\\local\\programs\\python\\python39\\lib\\site-packages (from python-dateutil>=2.7.3->pandas>=0.19->PyPortfolioOpt) (1.15.0)\n",
      "Note: you may need to restart the kernel to use updated packages.\n"
     ]
    }
   ],
   "source": [
    "pip install PyPortfolioOpt"
   ]
  },
  {
   "cell_type": "code",
   "execution_count": 17,
   "id": "least-lancaster",
   "metadata": {},
   "outputs": [],
   "source": [
    "from pypfopt.efficient_frontier import EfficientFrontier\n",
    "from pypfopt import risk_models\n",
    "from pypfopt import expected_returns "
   ]
  },
  {
   "cell_type": "code",
   "execution_count": 20,
   "id": "ordered-elizabeth",
   "metadata": {},
   "outputs": [
    {
     "name": "stdout",
     "output_type": "stream",
     "text": [
      "OrderedDict([('FB', 0.14584), ('AMZN', 0.31363), ('AAPL', 0.23401), ('NFLX', 0.30653), ('GOOG', 0.0)])\n",
      "Expected annual return: 39.3%\n",
      "Annual volatility: 26.9%\n",
      "Sharpe Ratio: 1.38\n"
     ]
    },
    {
     "data": {
      "text/plain": [
       "(0.3927748388075001, 0.2691917296825969, 1.3847930590105337)"
      ]
     },
     "execution_count": 20,
     "metadata": {},
     "output_type": "execute_result"
    }
   ],
   "source": [
    "#calculated expected returns and annualised sample covariance matrix of asset return\n",
    "mu = expected_returns.mean_historical_return(df)\n",
    "S = risk_models.sample_cov(df)\n",
    "#optimize for max sharpe ratio\n",
    "ef = EfficientFrontier(mu,S)\n",
    "weights = ef.max_sharpe()\n",
    "cleaned_weights = ef.clean_weights()\n",
    "print(cleaned_weights)\n",
    "ef.portfolio_performance( verbose = True )\n"
   ]
  },
  {
   "cell_type": "code",
   "execution_count": 22,
   "id": "large-settlement",
   "metadata": {},
   "outputs": [
    {
     "ename": "SolverError",
     "evalue": "The solver GLPK_MI is not installed.",
     "output_type": "error",
     "traceback": [
      "\u001b[1;31m---------------------------------------------------------------------------\u001b[0m",
      "\u001b[1;31mSolverError\u001b[0m                               Traceback (most recent call last)",
      "\u001b[1;32m<ipython-input-22-8120866751c7>\u001b[0m in \u001b[0;36m<module>\u001b[1;34m\u001b[0m\n\u001b[0;32m      4\u001b[0m \u001b[0mweights\u001b[0m \u001b[1;33m=\u001b[0m \u001b[0mcleaned_weights\u001b[0m\u001b[1;33m\u001b[0m\u001b[1;33m\u001b[0m\u001b[0m\n\u001b[0;32m      5\u001b[0m \u001b[0mda\u001b[0m  \u001b[1;33m=\u001b[0m \u001b[0mDiscreteAllocation\u001b[0m\u001b[1;33m(\u001b[0m\u001b[0mweights\u001b[0m\u001b[1;33m,\u001b[0m\u001b[0mlatest_prices\u001b[0m\u001b[1;33m,\u001b[0m\u001b[0mtotal_portfolio_value\u001b[0m\u001b[1;33m=\u001b[0m\u001b[1;36m15000\u001b[0m\u001b[1;33m)\u001b[0m\u001b[1;33m\u001b[0m\u001b[1;33m\u001b[0m\u001b[0m\n\u001b[1;32m----> 6\u001b[1;33m \u001b[0mallocation\u001b[0m\u001b[1;33m,\u001b[0m\u001b[0mleftover\u001b[0m \u001b[1;33m=\u001b[0m \u001b[0mda\u001b[0m\u001b[1;33m.\u001b[0m\u001b[0mlp_portfolio\u001b[0m\u001b[1;33m(\u001b[0m\u001b[1;33m)\u001b[0m\u001b[1;33m\u001b[0m\u001b[1;33m\u001b[0m\u001b[0m\n\u001b[0m\u001b[0;32m      7\u001b[0m \u001b[0mprint\u001b[0m\u001b[1;33m(\u001b[0m\u001b[1;34m\"discrete Allocation: \"\u001b[0m\u001b[1;33m,\u001b[0m\u001b[0mallocation\u001b[0m\u001b[1;33m)\u001b[0m\u001b[1;33m\u001b[0m\u001b[1;33m\u001b[0m\u001b[0m\n\u001b[0;32m      8\u001b[0m \u001b[0mprint\u001b[0m\u001b[1;33m(\u001b[0m\u001b[1;34m'Funds Remaining ${:.2f}'\u001b[0m\u001b[1;33m.\u001b[0m\u001b[0mformat\u001b[0m\u001b[1;33m(\u001b[0m\u001b[0mleftover\u001b[0m\u001b[1;33m)\u001b[0m\u001b[1;33m)\u001b[0m\u001b[1;33m\u001b[0m\u001b[1;33m\u001b[0m\u001b[0m\n",
      "\u001b[1;32m~\\AppData\\Local\\Programs\\Python\\Python39\\lib\\site-packages\\pypfopt\\discrete_allocation.py\u001b[0m in \u001b[0;36mlp_portfolio\u001b[1;34m(self, reinvest, verbose, solver)\u001b[0m\n\u001b[0;32m    323\u001b[0m         \u001b[1;32mif\u001b[0m \u001b[0msolver\u001b[0m \u001b[1;32mis\u001b[0m \u001b[1;32mnot\u001b[0m \u001b[1;32mNone\u001b[0m \u001b[1;32mand\u001b[0m \u001b[0msolver\u001b[0m \u001b[1;32mnot\u001b[0m \u001b[1;32min\u001b[0m \u001b[0mcp\u001b[0m\u001b[1;33m.\u001b[0m\u001b[0minstalled_solvers\u001b[0m\u001b[1;33m(\u001b[0m\u001b[1;33m)\u001b[0m\u001b[1;33m:\u001b[0m\u001b[1;33m\u001b[0m\u001b[1;33m\u001b[0m\u001b[0m\n\u001b[0;32m    324\u001b[0m             \u001b[1;32mraise\u001b[0m \u001b[0mNameError\u001b[0m\u001b[1;33m(\u001b[0m\u001b[1;34m\"Solver {} is not installed. \"\u001b[0m\u001b[1;33m.\u001b[0m\u001b[0mformat\u001b[0m\u001b[1;33m(\u001b[0m\u001b[0msolver\u001b[0m\u001b[1;33m)\u001b[0m\u001b[1;33m)\u001b[0m\u001b[1;33m\u001b[0m\u001b[1;33m\u001b[0m\u001b[0m\n\u001b[1;32m--> 325\u001b[1;33m         \u001b[0mopt\u001b[0m\u001b[1;33m.\u001b[0m\u001b[0msolve\u001b[0m\u001b[1;33m(\u001b[0m\u001b[0msolver\u001b[0m\u001b[1;33m=\u001b[0m\u001b[0msolver\u001b[0m\u001b[1;33m)\u001b[0m\u001b[1;33m\u001b[0m\u001b[1;33m\u001b[0m\u001b[0m\n\u001b[0m\u001b[0;32m    326\u001b[0m \u001b[1;33m\u001b[0m\u001b[0m\n\u001b[0;32m    327\u001b[0m         \u001b[1;32mif\u001b[0m \u001b[0mopt\u001b[0m\u001b[1;33m.\u001b[0m\u001b[0mstatus\u001b[0m \u001b[1;32mnot\u001b[0m \u001b[1;32min\u001b[0m \u001b[1;33m{\u001b[0m\u001b[1;34m\"optimal\"\u001b[0m\u001b[1;33m,\u001b[0m \u001b[1;34m\"optimal_inaccurate\"\u001b[0m\u001b[1;33m}\u001b[0m\u001b[1;33m:\u001b[0m  \u001b[1;31m# pragma: no cover\u001b[0m\u001b[1;33m\u001b[0m\u001b[1;33m\u001b[0m\u001b[0m\n",
      "\u001b[1;32m~\\AppData\\Local\\Programs\\Python\\Python39\\lib\\site-packages\\cvxpy\\problems\\problem.py\u001b[0m in \u001b[0;36msolve\u001b[1;34m(self, *args, **kwargs)\u001b[0m\n\u001b[0;32m    457\u001b[0m         \u001b[1;32melse\u001b[0m\u001b[1;33m:\u001b[0m\u001b[1;33m\u001b[0m\u001b[1;33m\u001b[0m\u001b[0m\n\u001b[0;32m    458\u001b[0m             \u001b[0msolve_func\u001b[0m \u001b[1;33m=\u001b[0m \u001b[0mProblem\u001b[0m\u001b[1;33m.\u001b[0m\u001b[0m_solve\u001b[0m\u001b[1;33m\u001b[0m\u001b[1;33m\u001b[0m\u001b[0m\n\u001b[1;32m--> 459\u001b[1;33m         \u001b[1;32mreturn\u001b[0m \u001b[0msolve_func\u001b[0m\u001b[1;33m(\u001b[0m\u001b[0mself\u001b[0m\u001b[1;33m,\u001b[0m \u001b[1;33m*\u001b[0m\u001b[0margs\u001b[0m\u001b[1;33m,\u001b[0m \u001b[1;33m**\u001b[0m\u001b[0mkwargs\u001b[0m\u001b[1;33m)\u001b[0m\u001b[1;33m\u001b[0m\u001b[1;33m\u001b[0m\u001b[0m\n\u001b[0m\u001b[0;32m    460\u001b[0m \u001b[1;33m\u001b[0m\u001b[0m\n\u001b[0;32m    461\u001b[0m     \u001b[1;33m@\u001b[0m\u001b[0mclassmethod\u001b[0m\u001b[1;33m\u001b[0m\u001b[1;33m\u001b[0m\u001b[0m\n",
      "\u001b[1;32m~\\AppData\\Local\\Programs\\Python\\Python39\\lib\\site-packages\\cvxpy\\problems\\problem.py\u001b[0m in \u001b[0;36m_solve\u001b[1;34m(self, solver, warm_start, verbose, gp, qcp, requires_grad, enforce_dpp, **kwargs)\u001b[0m\n\u001b[0;32m    936\u001b[0m                 \u001b[1;32mreturn\u001b[0m \u001b[0mself\u001b[0m\u001b[1;33m.\u001b[0m\u001b[0mvalue\u001b[0m\u001b[1;33m\u001b[0m\u001b[1;33m\u001b[0m\u001b[0m\n\u001b[0;32m    937\u001b[0m \u001b[1;33m\u001b[0m\u001b[0m\n\u001b[1;32m--> 938\u001b[1;33m         data, solving_chain, inverse_data = self.get_problem_data(\n\u001b[0m\u001b[0;32m    939\u001b[0m             solver, gp, enforce_dpp, verbose)\n\u001b[0;32m    940\u001b[0m \u001b[1;33m\u001b[0m\u001b[0m\n",
      "\u001b[1;32m~\\AppData\\Local\\Programs\\Python\\Python39\\lib\\site-packages\\cvxpy\\problems\\problem.py\u001b[0m in \u001b[0;36mget_problem_data\u001b[1;34m(self, solver, gp, enforce_dpp, verbose)\u001b[0m\n\u001b[0;32m    563\u001b[0m         \u001b[1;32mif\u001b[0m \u001b[0mkey\u001b[0m \u001b[1;33m!=\u001b[0m \u001b[0mself\u001b[0m\u001b[1;33m.\u001b[0m\u001b[0m_cache\u001b[0m\u001b[1;33m.\u001b[0m\u001b[0mkey\u001b[0m\u001b[1;33m:\u001b[0m\u001b[1;33m\u001b[0m\u001b[1;33m\u001b[0m\u001b[0m\n\u001b[0;32m    564\u001b[0m             \u001b[0mself\u001b[0m\u001b[1;33m.\u001b[0m\u001b[0m_cache\u001b[0m\u001b[1;33m.\u001b[0m\u001b[0minvalidate\u001b[0m\u001b[1;33m(\u001b[0m\u001b[1;33m)\u001b[0m\u001b[1;33m\u001b[0m\u001b[1;33m\u001b[0m\u001b[0m\n\u001b[1;32m--> 565\u001b[1;33m             solving_chain = self._construct_chain(\n\u001b[0m\u001b[0;32m    566\u001b[0m                 solver=solver, gp=gp, enforce_dpp=enforce_dpp)\n\u001b[0;32m    567\u001b[0m             \u001b[0mself\u001b[0m\u001b[1;33m.\u001b[0m\u001b[0m_cache\u001b[0m\u001b[1;33m.\u001b[0m\u001b[0mkey\u001b[0m \u001b[1;33m=\u001b[0m \u001b[0mkey\u001b[0m\u001b[1;33m\u001b[0m\u001b[1;33m\u001b[0m\u001b[0m\n",
      "\u001b[1;32m~\\AppData\\Local\\Programs\\Python\\Python39\\lib\\site-packages\\cvxpy\\problems\\problem.py\u001b[0m in \u001b[0;36m_construct_chain\u001b[1;34m(self, solver, gp, enforce_dpp)\u001b[0m\n\u001b[0;32m    787\u001b[0m         \u001b[0mA\u001b[0m \u001b[0msolving\u001b[0m \u001b[0mchain\u001b[0m\u001b[1;33m\u001b[0m\u001b[1;33m\u001b[0m\u001b[0m\n\u001b[0;32m    788\u001b[0m         \"\"\"\n\u001b[1;32m--> 789\u001b[1;33m         \u001b[0mcandidate_solvers\u001b[0m \u001b[1;33m=\u001b[0m \u001b[0mself\u001b[0m\u001b[1;33m.\u001b[0m\u001b[0m_find_candidate_solvers\u001b[0m\u001b[1;33m(\u001b[0m\u001b[0msolver\u001b[0m\u001b[1;33m=\u001b[0m\u001b[0msolver\u001b[0m\u001b[1;33m,\u001b[0m \u001b[0mgp\u001b[0m\u001b[1;33m=\u001b[0m\u001b[0mgp\u001b[0m\u001b[1;33m)\u001b[0m\u001b[1;33m\u001b[0m\u001b[1;33m\u001b[0m\u001b[0m\n\u001b[0m\u001b[0;32m    790\u001b[0m         \u001b[0mself\u001b[0m\u001b[1;33m.\u001b[0m\u001b[0m_sort_candidate_solvers\u001b[0m\u001b[1;33m(\u001b[0m\u001b[0mcandidate_solvers\u001b[0m\u001b[1;33m)\u001b[0m\u001b[1;33m\u001b[0m\u001b[1;33m\u001b[0m\u001b[0m\n\u001b[0;32m    791\u001b[0m         return construct_solving_chain(self, candidate_solvers, gp=gp,\n",
      "\u001b[1;32m~\\AppData\\Local\\Programs\\Python\\Python39\\lib\\site-packages\\cvxpy\\problems\\problem.py\u001b[0m in \u001b[0;36m_find_candidate_solvers\u001b[1;34m(self, solver, gp)\u001b[0m\n\u001b[0;32m    672\u001b[0m         \u001b[1;32mif\u001b[0m \u001b[0msolver\u001b[0m \u001b[1;32mis\u001b[0m \u001b[1;32mnot\u001b[0m \u001b[1;32mNone\u001b[0m\u001b[1;33m:\u001b[0m\u001b[1;33m\u001b[0m\u001b[1;33m\u001b[0m\u001b[0m\n\u001b[0;32m    673\u001b[0m             \u001b[1;32mif\u001b[0m \u001b[0msolver\u001b[0m \u001b[1;32mnot\u001b[0m \u001b[1;32min\u001b[0m \u001b[0mslv_def\u001b[0m\u001b[1;33m.\u001b[0m\u001b[0mINSTALLED_SOLVERS\u001b[0m\u001b[1;33m:\u001b[0m\u001b[1;33m\u001b[0m\u001b[1;33m\u001b[0m\u001b[0m\n\u001b[1;32m--> 674\u001b[1;33m                 \u001b[1;32mraise\u001b[0m \u001b[0merror\u001b[0m\u001b[1;33m.\u001b[0m\u001b[0mSolverError\u001b[0m\u001b[1;33m(\u001b[0m\u001b[1;34m\"The solver %s is not installed.\"\u001b[0m \u001b[1;33m%\u001b[0m \u001b[0msolver\u001b[0m\u001b[1;33m)\u001b[0m\u001b[1;33m\u001b[0m\u001b[1;33m\u001b[0m\u001b[0m\n\u001b[0m\u001b[0;32m    675\u001b[0m             \u001b[1;32mif\u001b[0m \u001b[0msolver\u001b[0m \u001b[1;32min\u001b[0m \u001b[0mslv_def\u001b[0m\u001b[1;33m.\u001b[0m\u001b[0mCONIC_SOLVERS\u001b[0m\u001b[1;33m:\u001b[0m\u001b[1;33m\u001b[0m\u001b[1;33m\u001b[0m\u001b[0m\n\u001b[0;32m    676\u001b[0m                 \u001b[0mcandidates\u001b[0m\u001b[1;33m[\u001b[0m\u001b[1;34m'conic_solvers'\u001b[0m\u001b[1;33m]\u001b[0m \u001b[1;33m+=\u001b[0m \u001b[1;33m[\u001b[0m\u001b[0msolver\u001b[0m\u001b[1;33m]\u001b[0m\u001b[1;33m\u001b[0m\u001b[1;33m\u001b[0m\u001b[0m\n",
      "\u001b[1;31mSolverError\u001b[0m: The solver GLPK_MI is not installed."
     ]
    }
   ],
   "source": [
    "from pypfopt.discrete_allocation import DiscreteAllocation , get_latest_prices \n",
    "\n",
    "latest_prices = get_latest_prices(df)\n",
    "weights = cleaned_weights \n",
    "da  = DiscreteAllocation(weights,latest_prices,total_portfolio_value=15000)\n",
    "allocation , leftover = da.lp_portfolio()\n",
    "print(\"discrete Allocation: \",allocation)\n",
    "print('Funds Remaining ${:.2f}'.format(leftover))"
   ]
  },
  {
   "cell_type": "code",
   "execution_count": null,
   "id": "satisfied-ranch",
   "metadata": {},
   "outputs": [],
   "source": []
  }
 ],
 "metadata": {
  "kernelspec": {
   "display_name": "Python 3",
   "language": "python",
   "name": "python3"
  },
  "language_info": {
   "codemirror_mode": {
    "name": "ipython",
    "version": 3
   },
   "file_extension": ".py",
   "mimetype": "text/x-python",
   "name": "python",
   "nbconvert_exporter": "python",
   "pygments_lexer": "ipython3",
   "version": "3.9.5"
  }
 },
 "nbformat": 4,
 "nbformat_minor": 5
}
