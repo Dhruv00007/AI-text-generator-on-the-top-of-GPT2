{
 "cells": [
  {
   "cell_type": "code",
   "execution_count": 1,
   "id": "digital-howard",
   "metadata": {},
   "outputs": [],
   "source": [
    "from transformers import GPT2LMHeadModel , GPT2Tokenizer "
   ]
  },
  {
   "cell_type": "code",
   "execution_count": 3,
   "id": "arabic-trust",
   "metadata": {},
   "outputs": [
    {
     "data": {
      "application/vnd.jupyter.widget-view+json": {
       "model_id": "18f361f48e204ab683b2778a4e362ddc",
       "version_major": 2,
       "version_minor": 0
      },
      "text/plain": [
       "HBox(children=(IntProgress(value=0, description='Downloading', max=548118077, style=ProgressStyle(description_…"
      ]
     },
     "metadata": {},
     "output_type": "display_data"
    },
    {
     "name": "stdout",
     "output_type": "stream",
     "text": [
      "\n"
     ]
    }
   ],
   "source": [
    "tokenizer = GPT2Tokenizer.from_pretrained('gpt2')\n",
    "model = GPT2LMHeadModel.from_pretrained('gpt2', pad_token_id = tokenizer.eos_token_id)"
   ]
  },
  {
   "cell_type": "code",
   "execution_count": 4,
   "id": "forced-chosen",
   "metadata": {},
   "outputs": [
    {
     "data": {
      "text/plain": [
       "50256"
      ]
     },
     "execution_count": 4,
     "metadata": {},
     "output_type": "execute_result"
    }
   ],
   "source": [
    "tokenizer.eos_token_id "
   ]
  },
  {
   "cell_type": "code",
   "execution_count": 11,
   "id": "helpful-transmission",
   "metadata": {},
   "outputs": [],
   "source": [
    "sentence  = 'blogging is not a good habit'\n",
    "input_ids = tokenizer.encode(sentence, return_tensors = 'pt')"
   ]
  },
  {
   "cell_type": "code",
   "execution_count": 12,
   "id": "straight-addiction",
   "metadata": {},
   "outputs": [],
   "source": [
    "output = model.generate(input_ids , max_length = 500 ,num_beams = 5 ,no_repeat_ngram_size=2 , early_stopping=True)"
   ]
  },
  {
   "cell_type": "code",
   "execution_count": 13,
   "id": "emerging-kruger",
   "metadata": {},
   "outputs": [
    {
     "data": {
      "text/plain": [
       "'blogging is not a good habit to have.\\n\\nIf you want to learn more about this topic, check out the following resources:'"
      ]
     },
     "execution_count": 13,
     "metadata": {},
     "output_type": "execute_result"
    }
   ],
   "source": [
    "tokenizer.decode(output[0],skip_special_tokens = True)"
   ]
  },
  {
   "cell_type": "code",
   "execution_count": 14,
   "id": "hairy-hollow",
   "metadata": {},
   "outputs": [],
   "source": [
    "text =tokenizer.decode(output[0] , skip_special_token = True)\n",
    "\n"
   ]
  },
  {
   "cell_type": "code",
   "execution_count": 15,
   "id": "organized-error",
   "metadata": {},
   "outputs": [],
   "source": [
    "with open('blog.txt','w') as f:\n",
    "    f.write(text)\n",
    "    "
   ]
  },
  {
   "cell_type": "code",
   "execution_count": null,
   "id": "final-beauty",
   "metadata": {},
   "outputs": [],
   "source": []
  }
 ],
 "metadata": {
  "kernelspec": {
   "display_name": "Python 3",
   "language": "python",
   "name": "python3"
  },
  "language_info": {
   "codemirror_mode": {
    "name": "ipython",
    "version": 3
   },
   "file_extension": ".py",
   "mimetype": "text/x-python",
   "name": "python",
   "nbconvert_exporter": "python",
   "pygments_lexer": "ipython3",
   "version": "3.9.4"
  }
 },
 "nbformat": 4,
 "nbformat_minor": 5
}
